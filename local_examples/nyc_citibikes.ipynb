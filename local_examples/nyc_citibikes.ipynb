{
 "cells": [
  {
   "cell_type": "code",
   "execution_count": 2,
   "metadata": {},
   "outputs": [
    {
     "data": {
      "text/plain": [
       "'c:\\\\Users\\\\ethan\\\\coding_projects\\\\trilogy-public-models\\\\local_examples'"
      ]
     },
     "execution_count": 2,
     "metadata": {},
     "output_type": "execute_result"
    }
   ],
   "source": [
    "import os\n",
    "nb_path = os.path.abspath(\"\")\n",
    "from sys import path\n",
    "from os.path import dirname\n",
    "\n",
    "path.insert(0,  dirname(nb_path))\n",
    "\n",
    "nb_path"
   ]
  },
  {
   "cell_type": "code",
   "execution_count": 3,
   "metadata": {},
   "outputs": [],
   "source": [
    "from trilogy import Dialects\n",
    "from trilogy_public_models import models\n",
    "env = models[\"bigquery.new_york_citibike\"]\n",
    "\n",
    "executor = Dialects.BIGQUERY.default_executor(environment=env)"
   ]
  },
  {
   "cell_type": "code",
   "execution_count": 5,
   "metadata": {},
   "outputs": [
    {
     "ename": "InvalidSyntaxException",
     "evalue": "Unexpected token Token('__ANON_3', '->') at line 11, column 9.\nExpected one of: \n\t* _TERMINATOR\n\t* BETWEEN\n\t* __ANON_6\n\t* NOT\n\t* __ANON_7\n\t* SLASH\n\t* STAR\n\t* OR\n\t* IN\n\t* PLUS\n\t* LSQB\n\t* LIKE\n\t* PERCENT\n\t* COMPARISON_OPERATOR\n\t* MINUS\n",
     "output_type": "error",
     "traceback": [
      "\u001b[1;31m---------------------------------------------------------------------------\u001b[0m",
      "\u001b[1;31mKeyError\u001b[0m                                  Traceback (most recent call last)",
      "File \u001b[1;32mc:\\Users\\ethan\\coding_projects\\trilogy-public-models\\.venv\\Lib\\site-packages\\lark\\parsers\\lalr_parser_state.py:77\u001b[0m, in \u001b[0;36mParserState.feed_token\u001b[1;34m(self, token, is_end)\u001b[0m\n\u001b[0;32m     76\u001b[0m \u001b[38;5;28;01mtry\u001b[39;00m:\n\u001b[1;32m---> 77\u001b[0m     action, arg \u001b[38;5;241m=\u001b[39m \u001b[43mstates\u001b[49m\u001b[43m[\u001b[49m\u001b[43mstate\u001b[49m\u001b[43m]\u001b[49m\u001b[43m[\u001b[49m\u001b[43mtoken\u001b[49m\u001b[38;5;241;43m.\u001b[39;49m\u001b[43mtype\u001b[49m\u001b[43m]\u001b[49m\n\u001b[0;32m     78\u001b[0m \u001b[38;5;28;01mexcept\u001b[39;00m \u001b[38;5;167;01mKeyError\u001b[39;00m:\n",
      "\u001b[1;31mKeyError\u001b[0m: '__ANON_3'",
      "\nDuring handling of the above exception, another exception occurred:\n",
      "\u001b[1;31mUnexpectedToken\u001b[0m                           Traceback (most recent call last)",
      "File \u001b[1;32mc:\\Users\\ethan\\coding_projects\\trilogy-public-models\\.venv\\Lib\\site-packages\\trilogy\\parsing\\parse_engine.py:1699\u001b[0m, in \u001b[0;36mparse_text\u001b[1;34m(text, environment)\u001b[0m\n\u001b[0;32m   1698\u001b[0m \u001b[38;5;28;01mtry\u001b[39;00m:\n\u001b[1;32m-> 1699\u001b[0m     parser\u001b[38;5;241m.\u001b[39mtransform(\u001b[43mPARSER\u001b[49m\u001b[38;5;241;43m.\u001b[39;49m\u001b[43mparse\u001b[49m\u001b[43m(\u001b[49m\u001b[43mtext\u001b[49m\u001b[43m)\u001b[49m)\n\u001b[0;32m   1700\u001b[0m     \u001b[38;5;66;03m# handle circular dependencies\u001b[39;00m\n",
      "File \u001b[1;32mc:\\Users\\ethan\\coding_projects\\trilogy-public-models\\.venv\\Lib\\site-packages\\lark\\lark.py:658\u001b[0m, in \u001b[0;36mLark.parse\u001b[1;34m(self, text, start, on_error)\u001b[0m\n\u001b[0;32m    641\u001b[0m \u001b[38;5;250m\u001b[39m\u001b[38;5;124;03m\"\"\"Parse the given text, according to the options provided.\u001b[39;00m\n\u001b[0;32m    642\u001b[0m \n\u001b[0;32m    643\u001b[0m \u001b[38;5;124;03mParameters:\u001b[39;00m\n\u001b[1;32m   (...)\u001b[0m\n\u001b[0;32m    656\u001b[0m \n\u001b[0;32m    657\u001b[0m \u001b[38;5;124;03m\"\"\"\u001b[39;00m\n\u001b[1;32m--> 658\u001b[0m \u001b[38;5;28;01mreturn\u001b[39;00m \u001b[38;5;28;43mself\u001b[39;49m\u001b[38;5;241;43m.\u001b[39;49m\u001b[43mparser\u001b[49m\u001b[38;5;241;43m.\u001b[39;49m\u001b[43mparse\u001b[49m\u001b[43m(\u001b[49m\u001b[43mtext\u001b[49m\u001b[43m,\u001b[49m\u001b[43m \u001b[49m\u001b[43mstart\u001b[49m\u001b[38;5;241;43m=\u001b[39;49m\u001b[43mstart\u001b[49m\u001b[43m,\u001b[49m\u001b[43m \u001b[49m\u001b[43mon_error\u001b[49m\u001b[38;5;241;43m=\u001b[39;49m\u001b[43mon_error\u001b[49m\u001b[43m)\u001b[49m\n",
      "File \u001b[1;32mc:\\Users\\ethan\\coding_projects\\trilogy-public-models\\.venv\\Lib\\site-packages\\lark\\parser_frontends.py:104\u001b[0m, in \u001b[0;36mParsingFrontend.parse\u001b[1;34m(self, text, start, on_error)\u001b[0m\n\u001b[0;32m    103\u001b[0m stream \u001b[38;5;241m=\u001b[39m \u001b[38;5;28mself\u001b[39m\u001b[38;5;241m.\u001b[39m_make_lexer_thread(text)\n\u001b[1;32m--> 104\u001b[0m \u001b[38;5;28;01mreturn\u001b[39;00m \u001b[38;5;28;43mself\u001b[39;49m\u001b[38;5;241;43m.\u001b[39;49m\u001b[43mparser\u001b[49m\u001b[38;5;241;43m.\u001b[39;49m\u001b[43mparse\u001b[49m\u001b[43m(\u001b[49m\u001b[43mstream\u001b[49m\u001b[43m,\u001b[49m\u001b[43m \u001b[49m\u001b[43mchosen_start\u001b[49m\u001b[43m,\u001b[49m\u001b[43m \u001b[49m\u001b[38;5;241;43m*\u001b[39;49m\u001b[38;5;241;43m*\u001b[39;49m\u001b[43mkw\u001b[49m\u001b[43m)\u001b[49m\n",
      "File \u001b[1;32mc:\\Users\\ethan\\coding_projects\\trilogy-public-models\\.venv\\Lib\\site-packages\\lark\\parsers\\lalr_parser.py:42\u001b[0m, in \u001b[0;36mLALR_Parser.parse\u001b[1;34m(self, lexer, start, on_error)\u001b[0m\n\u001b[0;32m     41\u001b[0m \u001b[38;5;28;01mtry\u001b[39;00m:\n\u001b[1;32m---> 42\u001b[0m     \u001b[38;5;28;01mreturn\u001b[39;00m \u001b[38;5;28;43mself\u001b[39;49m\u001b[38;5;241;43m.\u001b[39;49m\u001b[43mparser\u001b[49m\u001b[38;5;241;43m.\u001b[39;49m\u001b[43mparse\u001b[49m\u001b[43m(\u001b[49m\u001b[43mlexer\u001b[49m\u001b[43m,\u001b[49m\u001b[43m \u001b[49m\u001b[43mstart\u001b[49m\u001b[43m)\u001b[49m\n\u001b[0;32m     43\u001b[0m \u001b[38;5;28;01mexcept\u001b[39;00m UnexpectedInput \u001b[38;5;28;01mas\u001b[39;00m e:\n",
      "File \u001b[1;32mc:\\Users\\ethan\\coding_projects\\trilogy-public-models\\.venv\\Lib\\site-packages\\lark\\parsers\\lalr_parser.py:88\u001b[0m, in \u001b[0;36m_Parser.parse\u001b[1;34m(self, lexer, start, value_stack, state_stack, start_interactive)\u001b[0m\n\u001b[0;32m     87\u001b[0m     \u001b[38;5;28;01mreturn\u001b[39;00m InteractiveParser(\u001b[38;5;28mself\u001b[39m, parser_state, parser_state\u001b[38;5;241m.\u001b[39mlexer)\n\u001b[1;32m---> 88\u001b[0m \u001b[38;5;28;01mreturn\u001b[39;00m \u001b[38;5;28;43mself\u001b[39;49m\u001b[38;5;241;43m.\u001b[39;49m\u001b[43mparse_from_state\u001b[49m\u001b[43m(\u001b[49m\u001b[43mparser_state\u001b[49m\u001b[43m)\u001b[49m\n",
      "File \u001b[1;32mc:\\Users\\ethan\\coding_projects\\trilogy-public-models\\.venv\\Lib\\site-packages\\lark\\parsers\\lalr_parser.py:111\u001b[0m, in \u001b[0;36m_Parser.parse_from_state\u001b[1;34m(self, state, last_token)\u001b[0m\n\u001b[0;32m    110\u001b[0m         \u001b[38;5;28;01mpass\u001b[39;00m\n\u001b[1;32m--> 111\u001b[0m     \u001b[38;5;28;01mraise\u001b[39;00m e\n\u001b[0;32m    112\u001b[0m \u001b[38;5;28;01mexcept\u001b[39;00m \u001b[38;5;167;01mException\u001b[39;00m \u001b[38;5;28;01mas\u001b[39;00m e:\n",
      "File \u001b[1;32mc:\\Users\\ethan\\coding_projects\\trilogy-public-models\\.venv\\Lib\\site-packages\\lark\\parsers\\lalr_parser.py:102\u001b[0m, in \u001b[0;36m_Parser.parse_from_state\u001b[1;34m(self, state, last_token)\u001b[0m\n\u001b[0;32m    101\u001b[0m     \u001b[38;5;28;01massert\u001b[39;00m token \u001b[38;5;129;01mis\u001b[39;00m \u001b[38;5;129;01mnot\u001b[39;00m \u001b[38;5;28;01mNone\u001b[39;00m\n\u001b[1;32m--> 102\u001b[0m     \u001b[43mstate\u001b[49m\u001b[38;5;241;43m.\u001b[39;49m\u001b[43mfeed_token\u001b[49m\u001b[43m(\u001b[49m\u001b[43mtoken\u001b[49m\u001b[43m)\u001b[49m\n\u001b[0;32m    104\u001b[0m end_token \u001b[38;5;241m=\u001b[39m Token\u001b[38;5;241m.\u001b[39mnew_borrow_pos(\u001b[38;5;124m'\u001b[39m\u001b[38;5;124m$END\u001b[39m\u001b[38;5;124m'\u001b[39m, \u001b[38;5;124m'\u001b[39m\u001b[38;5;124m'\u001b[39m, token) \u001b[38;5;28;01mif\u001b[39;00m token \u001b[38;5;28;01melse\u001b[39;00m Token(\u001b[38;5;124m'\u001b[39m\u001b[38;5;124m$END\u001b[39m\u001b[38;5;124m'\u001b[39m, \u001b[38;5;124m'\u001b[39m\u001b[38;5;124m'\u001b[39m, \u001b[38;5;241m0\u001b[39m, \u001b[38;5;241m1\u001b[39m, \u001b[38;5;241m1\u001b[39m)\n",
      "File \u001b[1;32mc:\\Users\\ethan\\coding_projects\\trilogy-public-models\\.venv\\Lib\\site-packages\\lark\\parsers\\lalr_parser_state.py:80\u001b[0m, in \u001b[0;36mParserState.feed_token\u001b[1;34m(self, token, is_end)\u001b[0m\n\u001b[0;32m     79\u001b[0m     expected \u001b[38;5;241m=\u001b[39m {s \u001b[38;5;28;01mfor\u001b[39;00m s \u001b[38;5;129;01min\u001b[39;00m states[state]\u001b[38;5;241m.\u001b[39mkeys() \u001b[38;5;28;01mif\u001b[39;00m s\u001b[38;5;241m.\u001b[39misupper()}\n\u001b[1;32m---> 80\u001b[0m     \u001b[38;5;28;01mraise\u001b[39;00m UnexpectedToken(token, expected, state\u001b[38;5;241m=\u001b[39m\u001b[38;5;28mself\u001b[39m, interactive_parser\u001b[38;5;241m=\u001b[39m\u001b[38;5;28;01mNone\u001b[39;00m)\n\u001b[0;32m     82\u001b[0m \u001b[38;5;28;01massert\u001b[39;00m arg \u001b[38;5;241m!=\u001b[39m end_state\n",
      "\u001b[1;31mUnexpectedToken\u001b[0m: Unexpected token Token('__ANON_3', '->') at line 11, column 9.\nExpected one of: \n\t* _TERMINATOR\n\t* BETWEEN\n\t* __ANON_6\n\t* NOT\n\t* __ANON_7\n\t* SLASH\n\t* STAR\n\t* OR\n\t* IN\n\t* PLUS\n\t* LSQB\n\t* LIKE\n\t* PERCENT\n\t* COMPARISON_OPERATOR\n\t* MINUS\n",
      "\nDuring handling of the above exception, another exception occurred:\n",
      "\u001b[1;31mInvalidSyntaxException\u001b[0m                    Traceback (most recent call last)",
      "Cell \u001b[1;32mIn[5], line 21\u001b[0m\n\u001b[0;32m      1\u001b[0m QA_3 \u001b[38;5;241m=\u001b[39m \u001b[38;5;124m\"\"\"\u001b[39m\n\u001b[0;32m      2\u001b[0m \n\u001b[0;32m      3\u001b[0m \u001b[38;5;124mproperty trip.rider.birth_year.generation <-  CASE WHEN birth_year BETWEEN 1883 AND 1900 THEN \u001b[39m\u001b[38;5;124m'\u001b[39m\u001b[38;5;124mLost Generation\u001b[39m\u001b[38;5;124m'\u001b[39m\n\u001b[1;32m   (...)\u001b[0m\n\u001b[0;32m     18\u001b[0m \u001b[38;5;124m    trip.count desc;\u001b[39m\n\u001b[0;32m     19\u001b[0m \u001b[38;5;124m\"\"\"\u001b[39m\n\u001b[1;32m---> 21\u001b[0m results \u001b[38;5;241m=\u001b[39m \u001b[43mexecutor\u001b[49m\u001b[38;5;241;43m.\u001b[39;49m\u001b[43mexecute_text\u001b[49m\u001b[43m(\u001b[49m\u001b[43mQA_3\u001b[49m\u001b[43m)\u001b[49m\n",
      "File \u001b[1;32mc:\\Users\\ethan\\coding_projects\\trilogy-public-models\\.venv\\Lib\\site-packages\\trilogy\\executor.py:263\u001b[0m, in \u001b[0;36mExecutor.execute_text\u001b[1;34m(self, command)\u001b[0m\n\u001b[0;32m    261\u001b[0m output \u001b[38;5;241m=\u001b[39m []\n\u001b[0;32m    262\u001b[0m \u001b[38;5;66;03m# connection = self.engine.connect()\u001b[39;00m\n\u001b[1;32m--> 263\u001b[0m \u001b[43m\u001b[49m\u001b[38;5;28;43;01mfor\u001b[39;49;00m\u001b[43m \u001b[49m\u001b[43mstatement\u001b[49m\u001b[43m \u001b[49m\u001b[38;5;129;43;01min\u001b[39;49;00m\u001b[43m \u001b[49m\u001b[38;5;28;43mself\u001b[39;49m\u001b[38;5;241;43m.\u001b[39;49m\u001b[43mparse_text_generator\u001b[49m\u001b[43m(\u001b[49m\u001b[43mcommand\u001b[49m\u001b[43m)\u001b[49m\u001b[43m:\u001b[49m\n\u001b[0;32m    264\u001b[0m \u001b[43m    \u001b[49m\u001b[38;5;28;43;01mif\u001b[39;49;00m\u001b[43m \u001b[49m\u001b[38;5;28;43misinstance\u001b[39;49m\u001b[43m(\u001b[49m\u001b[43mstatement\u001b[49m\u001b[43m,\u001b[49m\u001b[43m \u001b[49m\u001b[43mProcessedShowStatement\u001b[49m\u001b[43m)\u001b[49m\u001b[43m:\u001b[49m\n\u001b[0;32m    265\u001b[0m \u001b[43m        \u001b[49m\u001b[43moutput\u001b[49m\u001b[38;5;241;43m.\u001b[39;49m\u001b[43mappend\u001b[49m\u001b[43m(\u001b[49m\n\u001b[0;32m    266\u001b[0m \u001b[43m            \u001b[49m\u001b[43mgenerate_result_set\u001b[49m\u001b[43m(\u001b[49m\n\u001b[0;32m    267\u001b[0m \u001b[43m                \u001b[49m\u001b[43mstatement\u001b[49m\u001b[38;5;241;43m.\u001b[39;49m\u001b[43moutput_columns\u001b[49m\u001b[43m,\u001b[49m\n\u001b[1;32m   (...)\u001b[0m\n\u001b[0;32m    273\u001b[0m \u001b[43m            \u001b[49m\u001b[43m)\u001b[49m\n\u001b[0;32m    274\u001b[0m \u001b[43m        \u001b[49m\u001b[43m)\u001b[49m\n",
      "File \u001b[1;32mc:\\Users\\ethan\\coding_projects\\trilogy-public-models\\.venv\\Lib\\site-packages\\trilogy\\executor.py:231\u001b[0m, in \u001b[0;36mExecutor.parse_text_generator\u001b[1;34m(self, command, persist)\u001b[0m\n\u001b[0;32m    225\u001b[0m \u001b[38;5;28;01mdef\u001b[39;00m \u001b[38;5;21mparse_text_generator\u001b[39m(\n\u001b[0;32m    226\u001b[0m     \u001b[38;5;28mself\u001b[39m, command: \u001b[38;5;28mstr\u001b[39m, persist: \u001b[38;5;28mbool\u001b[39m \u001b[38;5;241m=\u001b[39m \u001b[38;5;28;01mFalse\u001b[39;00m\n\u001b[0;32m    227\u001b[0m ) \u001b[38;5;241m-\u001b[39m\u001b[38;5;241m>\u001b[39m Generator[\n\u001b[0;32m    228\u001b[0m     ProcessedQuery \u001b[38;5;241m|\u001b[39m ProcessedQueryPersist \u001b[38;5;241m|\u001b[39m ProcessedShowStatement, \u001b[38;5;28;01mNone\u001b[39;00m, \u001b[38;5;28;01mNone\u001b[39;00m\n\u001b[0;32m    229\u001b[0m ]:\n\u001b[0;32m    230\u001b[0m \u001b[38;5;250m    \u001b[39m\u001b[38;5;124;03m\"\"\"Process a preql text command\"\"\"\u001b[39;00m\n\u001b[1;32m--> 231\u001b[0m     _, parsed \u001b[38;5;241m=\u001b[39m \u001b[43mparse_text\u001b[49m\u001b[43m(\u001b[49m\u001b[43mcommand\u001b[49m\u001b[43m,\u001b[49m\u001b[43m \u001b[49m\u001b[38;5;28;43mself\u001b[39;49m\u001b[38;5;241;43m.\u001b[39;49m\u001b[43menvironment\u001b[49m\u001b[43m)\u001b[49m\n\u001b[0;32m    232\u001b[0m     generatable \u001b[38;5;241m=\u001b[39m [\n\u001b[0;32m    233\u001b[0m         x\n\u001b[0;32m    234\u001b[0m         \u001b[38;5;28;01mfor\u001b[39;00m x \u001b[38;5;129;01min\u001b[39;00m parsed\n\u001b[1;32m   (...)\u001b[0m\n\u001b[0;32m    243\u001b[0m         )\n\u001b[0;32m    244\u001b[0m     ]\n\u001b[0;32m    245\u001b[0m     \u001b[38;5;28;01mwhile\u001b[39;00m generatable:\n",
      "File \u001b[1;32mc:\\Users\\ethan\\coding_projects\\trilogy-public-models\\.venv\\Lib\\site-packages\\trilogy\\parsing\\parse_engine.py:1715\u001b[0m, in \u001b[0;36mparse_text\u001b[1;34m(text, environment)\u001b[0m\n\u001b[0;32m   1706\u001b[0m     \u001b[38;5;28;01mraise\u001b[39;00m e\n\u001b[0;32m   1707\u001b[0m \u001b[38;5;28;01mexcept\u001b[39;00m (\n\u001b[0;32m   1708\u001b[0m     UnexpectedCharacters,\n\u001b[0;32m   1709\u001b[0m     UnexpectedEOF,\n\u001b[1;32m   (...)\u001b[0m\n\u001b[0;32m   1713\u001b[0m     \u001b[38;5;167;01mTypeError\u001b[39;00m,\n\u001b[0;32m   1714\u001b[0m ) \u001b[38;5;28;01mas\u001b[39;00m e:\n\u001b[1;32m-> 1715\u001b[0m     \u001b[38;5;28;01mraise\u001b[39;00m InvalidSyntaxException(\u001b[38;5;28mstr\u001b[39m(e))\n\u001b[0;32m   1717\u001b[0m \u001b[38;5;28;01mreturn\u001b[39;00m environment, output\n",
      "\u001b[1;31mInvalidSyntaxException\u001b[0m: Unexpected token Token('__ANON_3', '->') at line 11, column 9.\nExpected one of: \n\t* _TERMINATOR\n\t* BETWEEN\n\t* __ANON_6\n\t* NOT\n\t* __ANON_7\n\t* SLASH\n\t* STAR\n\t* OR\n\t* IN\n\t* PLUS\n\t* LSQB\n\t* LIKE\n\t* PERCENT\n\t* COMPARISON_OPERATOR\n\t* MINUS\n"
     ]
    }
   ],
   "source": [
    "QA_3 = \"\"\"\n",
    "\n",
    "property trip.rider.birth_year.generation <-  CASE \n",
    "      WHEN birth_year BETWEEN 1883 AND 1900 THEN 'Lost Generation'\n",
    "      WHEN birth_year BETWEEN 1901 AND 1927 THEN 'G.I. Generation'\n",
    "      WHEN birth_year BETWEEN 1928 AND 1945 THEN 'Silent Generation'\n",
    "      WHEN birth_year BETWEEN 1946 AND 1964 THEN 'Baby Boomers'\n",
    "      WHEN birth_year BETWEEN 1965 AND 1980 THEN 'Generation X'\n",
    "      WHEN birth_year BETWEEN 1981 AND 1996 THEN 'Millenials'\n",
    "      WHEN birth_year BETWEEN 1997 AND 2012 THEN 'Generation Z'\n",
    "      ELSE 'Other'\n",
    "    END;\n",
    "\n",
    "\n",
    "select\n",
    "    trip.rider.birth_year.generation,\n",
    "    trip.count\n",
    "order by\n",
    "    trip.count desc;\n",
    "\"\"\"\n",
    "\n",
    "results = executor.execute_text(QA_3)"
   ]
  }
 ],
 "metadata": {
  "kernelspec": {
   "display_name": ".venv",
   "language": "python",
   "name": "python3"
  },
  "language_info": {
   "codemirror_mode": {
    "name": "ipython",
    "version": 3
   },
   "file_extension": ".py",
   "mimetype": "text/x-python",
   "name": "python",
   "nbconvert_exporter": "python",
   "pygments_lexer": "ipython3",
   "version": "3.11.3"
  }
 },
 "nbformat": 4,
 "nbformat_minor": 2
}

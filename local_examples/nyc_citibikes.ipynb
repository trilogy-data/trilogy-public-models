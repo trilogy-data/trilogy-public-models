{
 "cells": [
  {
   "cell_type": "code",
   "execution_count": 2,
   "metadata": {},
   "outputs": [
    {
     "data": {
      "text/plain": [
       "'c:\\\\Users\\\\ethan\\\\coding_projects\\\\trilogy-public-models\\\\local_examples'"
      ]
     },
     "execution_count": 2,
     "metadata": {},
     "output_type": "execute_result"
    }
   ],
   "source": [
    "import os\n",
    "nb_path = os.path.abspath(\"\")\n",
    "from sys import path\n",
    "from os.path import dirname\n",
    "\n",
    "path.insert(0,  dirname(nb_path))\n",
    "\n",
    "nb_path"
   ]
  },
  {
   "cell_type": "code",
   "execution_count": 3,
   "metadata": {},
   "outputs": [],
   "source": [
    "from trilogy import Dialects\n",
    "from trilogy_public_models import models\n",
    "env = models[\"bigquery.new_york_citibike\"]\n",
    "\n",
    "executor = Dialects.BIGQUERY.default_executor(environment=env)"
   ]
  },
  {
   "cell_type": "code",
   "execution_count": 20,
   "metadata": {},
   "outputs": [
    {
     "name": "stdout",
     "output_type": "stream",
     "text": [
      "('Millenials', 2017, 5238096)\n",
      "('Millenials', 2016, 3680573)\n",
      "('Generation X', 2017, 3440117)\n",
      "('Millenials', 2015, 2922026)\n",
      "('Millenials', 2014, 2834458)\n",
      "('Generation X', 2016, 2729151)\n",
      "('Millenials', 2018, 2698168)\n",
      "('Generation X', 2014, 2602653)\n",
      "('Generation X', 2015, 2421244)\n",
      "('Generation X', 2018, 2102879)\n",
      "('Generation X', 2013, 1638224)\n",
      "('Millenials', 2013, 1608870)\n",
      "('Baby Boomers', 2017, 1578089)\n",
      "('Other', 2017, 1373229)\n",
      "('Baby Boomers', 2016, 1304417)\n",
      "('Baby Boomers', 2015, 1200017)\n",
      "('Baby Boomers', 2014, 1198017)\n",
      "('Other', 2016, 1163434)\n",
      "('Other', 2015, 1108938)\n",
      "('Other', 2014, 761392)\n",
      "('Baby Boomers', 2018, 740726)\n",
      "('Baby Boomers', 2013, 708744)\n",
      "('Other', 2013, 630012)\n",
      "('Generation Z', 2017, 205274)\n",
      "('Generation Z', 2018, 102362)\n",
      "('Generation Z', 2016, 62401)\n",
      "('Silent Generation', 2015, 48264)\n",
      "('Silent Generation', 2017, 47718)\n",
      "('Silent Generation', 2014, 44384)\n",
      "('Silent Generation', 2016, 43987)\n",
      "('Generation Z', 2015, 34764)\n",
      "('Silent Generation', 2013, 26759)\n",
      "('Silent Generation', 2018, 20473)\n",
      "('Generation Z', 2014, 15040)\n",
      "('Lost Generation', 2017, 4811)\n",
      "('Lost Generation', 2018, 4088)\n",
      "('Generation Z', 2013, 3602)\n",
      "('Lost Generation', 2016, 2895)\n",
      "('Lost Generation', 2015, 2621)\n",
      "('G.I. Generation', 2017, 2504)\n",
      "('Lost Generation', 2014, 2417)\n",
      "('G.I. Generation', 2014, 1463)\n",
      "('G.I. Generation', 2016, 1429)\n",
      "('G.I. Generation', 2018, 1302)\n",
      "('Lost Generation', 2013, 1244)\n",
      "('G.I. Generation', 2013, 995)\n",
      "('G.I. Generation', 2015, 857)\n",
      "('Other', None, 0)\n"
     ]
    }
   ],
   "source": [
    "QA_3 = \"\"\"\n",
    "\n",
    "\n",
    "property trip.rider.birth_year.generation <-  CASE \n",
    "      WHEN trip.rider.birth_year BETWEEN 1883 AND 1900 THEN 'Lost Generation'\n",
    "      WHEN trip.rider.birth_year BETWEEN 1901 AND 1927 THEN 'G.I. Generation'\n",
    "      WHEN trip.rider.birth_year BETWEEN 1928 AND 1945 THEN 'Silent Generation'\n",
    "      WHEN trip.rider.birth_year BETWEEN 1946 AND 1964 THEN 'Baby Boomers'\n",
    "      WHEN trip.rider.birth_year BETWEEN 1965 AND 1980 THEN 'Generation X'\n",
    "      WHEN trip.rider.birth_year BETWEEN 1981 AND 1996 THEN 'Millenials'\n",
    "      WHEN trip.rider.birth_year BETWEEN 1997 AND 2012 THEN 'Generation Z'\n",
    "      ELSE 'Other'\n",
    "    END;\n",
    "\n",
    "\n",
    "select\n",
    "    trip.rider.generation,\n",
    "    trip.count\n",
    "order by\n",
    "    trip.count desc;\n",
    "\"\"\"\n",
    "\n",
    "results = executor.execute_text(QA_3)[0]\n",
    "for r in results.fetchall():\n",
    "    print(r)"
   ]
  }
 ],
 "metadata": {
  "kernelspec": {
   "display_name": ".venv",
   "language": "python",
   "name": "python3"
  },
  "language_info": {
   "codemirror_mode": {
    "name": "ipython",
    "version": 3
   },
   "file_extension": ".py",
   "mimetype": "text/x-python",
   "name": "python",
   "nbconvert_exporter": "python",
   "pygments_lexer": "ipython3",
   "version": "3.11.3"
  }
 },
 "nbformat": 4,
 "nbformat_minor": 2
}
